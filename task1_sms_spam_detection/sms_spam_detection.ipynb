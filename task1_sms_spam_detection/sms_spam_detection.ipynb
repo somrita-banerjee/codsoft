{
 "cells": [
  {
   "cell_type": "code",
   "execution_count": null,
   "id": "678c489c",
   "metadata": {
    "vscode": {
     "languageId": "plaintext"
    }
   },
   "outputs": [],
   "source": [
    "# 📩 SMS Spam Classifier (Task 1)"
   ]
  }
 ],
 "metadata": {
  "language_info": {
   "name": "python"
  }
 },
 "nbformat": 4,
 "nbformat_minor": 5
}
